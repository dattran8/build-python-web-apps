{
 "cells": [
  {
   "cell_type": "markdown",
   "metadata": {},
   "source": [
    "**Course Description**\n",
    "\n",
    "Python is a general-purpose programming language that is becoming ever\n",
    "more popular for data science. Companies worldwide are using Python to\n",
    "harvest insights from their data and gain a competitive edge. Unlike\n",
    "other Python tutorials, this course focuses on Python specifically for\n",
    "data science. In our Introduction to Python course, you’ll learn about\n",
    "powerful ways to store and manipulate data, and helpful data science\n",
    "tools to begin conducting your own analyses. Start DataCamp’s online\n",
    "Python curriculum now.\n",
    "\n",
    "# Python Basics\n",
    "\n",
    "An introduction to the basic concepts of Python. Learn how to use Python interactively and by using a script. Create your first variables and acquaint yourself with Python's basic data types.\n",
    "\n",
    "## Hello Python!\n",
    "\n",
    "### The Python Interface\n",
    "\n",
    "In the Python script on the right, you can type Python code to solve the\n",
    "exercises. If you hit *Run Code* or *Submit Answer*, your python script\n",
    "(`script.py`) is executed and the output is shown in the IPython Shell.\n",
    "*Submit Answer* checks whether your submission is correct and gives you\n",
    "feedback.\n",
    "\n",
    "You can hit *Run Code* and *Submit Answer* as often as you want. If\n",
    "you're stuck, you can click *Get Hint*, and ultimately *Get Solution*.\n",
    "\n",
    "You can also use the IPython Shell interactively by simply typing\n",
    "commands and hitting Enter. When you work in the shell directly, your\n",
    "code will not be checked for correctness so it is a great way to\n",
    "experiment.\n",
    "\n",
    "-   Experiment in the IPython Shell; type `5 / 8`, for example.\n",
    "-   Add another line of code to the Python script on the top-right (not\n",
    "    in the Shell): `print(7 + 10)`.\n",
    "-   Hit *Submit Answer* to execute the Python script and receive\n",
    "    feedback.\n"
   ]
  },
  {
   "cell_type": "code",
   "execution_count": 1,
   "metadata": {},
   "outputs": [
    {
     "name": "stdout",
     "output_type": "stream",
     "text": [
      "0.625\n",
      "17\n"
     ]
    }
   ],
   "source": [
    "# Example, do not modify!\n",
    "print(5 / 8)\n",
    "\n",
    "# Put code below here\n",
    "print(7 + 10)\n"
   ]
  },
  {
   "cell_type": "markdown",
   "metadata": {},
   "source": [
    "### When to use Python?\n",
    "\n",
    "Python is a pretty versatile language. For which applications can you\n",
    "use Python?\n",
    "\n",
    "- [ ] You want to do some quick calculations.\n",
    "- [ ] For your new business, you want to develop a database-driven website.\n",
    "- [ ] Your boss asks you to clean and analyze the results of the latest satisfaction survey.\n",
    "- [x] All of the above.\n",
    "\n",
    "### Any comments?\n",
    "\n",
    "Something that Hugo didn't mention in his videos is that you can add\n",
    "**comments** to your Python scripts. Comments are important to make sure\n",
    "that you and others can understand what your code is about.\n",
    "\n",
    "To add comments to your Python script, you can use the `#` tag. These\n",
    "comments are not run as Python code, so they will not influence your\n",
    "result. As an example, take the comment in the editor, `# Division`; it\n",
    "is completely ignored during execution.\n",
    "\n",
    "Above the `print(7 + 10)`, add the comment\n",
    "\n",
    "    # Addition\n"
   ]
  },
  {
   "cell_type": "code",
   "execution_count": 2,
   "metadata": {},
   "outputs": [
    {
     "name": "stdout",
     "output_type": "stream",
     "text": [
      "0.625\n",
      "17\n"
     ]
    }
   ],
   "source": [
    "# Division\n",
    "print(5 / 8)\n",
    "\n",
    "# Addition\n",
    "print(7 + 10)\n"
   ]
  },
  {
   "cell_type": "markdown",
   "metadata": {},
   "source": [
    "### Python as a calculator\n",
    "\n",
    "Python is perfectly suited to do basic calculations. Apart from\n",
    "addition, subtraction, multiplication and division, there is also\n",
    "support for more advanced operations such as:\n",
    "\n",
    "-   Exponentiation: `**`. This operator raises the number to its left to\n",
    "    the power of the number to its right. For example `4**2` is `4` to\n",
    "    the power of `2` and will give `16`.\n",
    "-   Modulo: `%`. This operator returns the remainder of the division of\n",
    "    the number to the left by the number on its right. For example\n",
    "    `18 % 7` equals `4` because `7` fits into `18` twice, leaving you\n",
    "    with a remainder of `4`.\n",
    "\n",
    "The code in the script gives some examples.\n",
    "\n",
    "Now it's your turn to practice!\n",
    "\n",
    "-   Change the values of the numbers shown to see how Python performs\n",
    "    addition and subtraction.\n",
    "-   Change the values of the numbers shown to see how multiplication,\n",
    "    division, modulo, and exponentiation works in Python.\n",
    "-   Calculate and print `2` to the power of `5`.\n"
   ]
  },
  {
   "cell_type": "code",
   "execution_count": 3,
   "metadata": {},
   "outputs": [
    {
     "name": "stdout",
     "output_type": "stream",
     "text": [
      "10\n",
      "0\n",
      "15\n",
      "5.0\n",
      "4\n",
      "16\n",
      "32\n"
     ]
    }
   ],
   "source": [
    "# Addition, subtraction\n",
    "print(5 + 5)\n",
    "print(5 - 5)\n",
    "\n",
    "# Multiplication, division, modulo, and exponentiation\n",
    "print(3 * 5)\n",
    "print(10 / 2)\n",
    "print(18 % 7)\n",
    "print(4 ** 2)\n",
    "\n",
    "# Calculate two to the power of five\n",
    "print(2 ** 5)\n"
   ]
  },
  {
   "cell_type": "markdown",
   "metadata": {},
   "source": [
    "## Variables and Types\n",
    "\n",
    "### Variable Assignment\n",
    "\n",
    "In Python, a variable allows you to refer to a value with a name. To\n",
    "create a variable use `=`, like this example:\n",
    "\n",
    "    x = 5\n",
    "\n",
    "You can now use the name of this variable, `x`, instead of the actual\n",
    "value, `5`.\n",
    "\n",
    "Remember, `=` in Python means *assignment*, it doesn't test equality!\n",
    "\n",
    "-   Create a variable `savings` with the value 100.\n",
    "-   Check out this variable by typing `print(savings)` in the script.\n"
   ]
  },
  {
   "cell_type": "code",
   "execution_count": 4,
   "metadata": {},
   "outputs": [
    {
     "name": "stdout",
     "output_type": "stream",
     "text": [
      "100\n"
     ]
    }
   ],
   "source": [
    "# Create a variable savings\n",
    "savings = 100\n",
    "\n",
    "# Print out savings\n",
    "print(savings)\n"
   ]
  },
  {
   "cell_type": "markdown",
   "metadata": {},
   "source": [
    "### Calculations with variables\n",
    "\n",
    "The formula to calculate how much money you have after 7 years of\n",
    "investing $100 each year with 10% return would look something like this:\n",
    "\n",
    "    100 * 1.1 ** 7\n",
    "\n",
    "This is known as compound interest.\n",
    "\n",
    "Instead of calculating with the actual values, you can use variables\n",
    "instead. The `savings` variable you've created in the previous exercise\n",
    "represents the $100 you started with. It's up to you to create a new\n",
    "variable to represent `1.1` and then redo the calculations!\n",
    "\n",
    "-   Create a variable `growth_multiplier`, equal to `1.1`.\n",
    "-   Create a variable, `result`, equal to the amount of money you saved\n",
    "    after `7` years.\n",
    "-   Print out the value of `result`.\n"
   ]
  },
  {
   "cell_type": "code",
   "execution_count": 5,
   "metadata": {},
   "outputs": [
    {
     "name": "stdout",
     "output_type": "stream",
     "text": [
      "194.87171000000012\n"
     ]
    }
   ],
   "source": [
    "# Create a variable savings\n",
    "savings = 100\n",
    "\n",
    "# Create a variable growth_multiplier\n",
    "growth_multiplier = 1.1\n",
    "\n",
    "# Calculate result\n",
    "result = savings * growth_multiplier ** 7\n",
    "\n",
    "# Print out result\n",
    "print(result)\n"
   ]
  },
  {
   "cell_type": "markdown",
   "metadata": {},
   "source": [
    "### Other variable types\n",
    "\n",
    "In the previous exercise, you worked with two Python data types:\n",
    "\n",
    "-   `int`, or integer: a number without a fractional part. `savings`,\n",
    "    with the value `100`, is an example of an integer.\n",
    "-   `float`, or floating point: a number that has both an integer and\n",
    "    fractional part, separated by a point. `growth_multiplier`, with the\n",
    "    value `1.1`, is an example of a float.\n",
    "\n",
    "Next to numerical data types, there are two other very common data\n",
    "types:\n",
    "\n",
    "-   `str`, or string: a type to represent text. You can use single or\n",
    "    double quotes to build a string.\n",
    "-   `bool`, or boolean: a type to represent logical values. Can only be\n",
    "    `True` or `False` (the capitalization is important!).\n",
    "\n",
    "<!-- -->\n",
    "\n",
    "-   Create a new string, `desc`, with the value `\"compound interest\"`.\n",
    "-   Create a new boolean, `profitable`, with the value `True`.\n"
   ]
  },
  {
   "cell_type": "code",
   "execution_count": 6,
   "metadata": {},
   "outputs": [],
   "source": [
    "# Create a variable desc\n",
    "desc = \"compound interest\"\n",
    "\n",
    "# Create a variable profitable\n",
    "profitable = True\n"
   ]
  },
  {
   "cell_type": "markdown",
   "metadata": {},
   "source": [
    "### Guess the type\n",
    "\n",
    "To find out the type of a value or a variable that refers to that value,\n",
    "you can use the\n",
    "[`type()`](https://docs.python.org/3/library/functions.html#type)\n",
    "function. Suppose you've defined a variable `a`, but you forgot the type\n",
    "of this variable. To determine the type of `a`, simply execute:\n",
    "\n",
    "    type(a)\n",
    "\n",
    "We already went ahead and created three variables: `a`, `b` and `c`. You\n",
    "can use the IPython shell to discover their type. Which of the following\n",
    "options is correct?\n",
    "\n",
    "- [ ] `a` is of type `int`, `b` is of type `str`, `c` is of type `bool`\n",
    "- [ ] `a` is of type `float`, `b` is of type `bool`, `c` is of type `str`\n",
    "- [x] `a` is of type `float`, `b` is of type `str`, `c` is of type `bool`\n",
    "- [ ] `a` is of type `int`, `b` is of type `bool`, `c` is of type `str`\n",
    "\n",
    "### Operations with other types\n",
    "\n",
    "Hugo mentioned that different types behave differently in Python.\n",
    "\n",
    "When you sum two strings, for example, you'll get different behavior\n",
    "than when you sum two integers or two booleans.\n",
    "\n",
    "In the script some variables with different types have already been\n",
    "created. It's up to you to use them.\n",
    "\n",
    "-   Calculate the product of `savings` and `growth_multiplier`. Store\n",
    "    the result in `year1`.\n",
    "-   What do you think the resulting type will be? Find out by printing\n",
    "    out the type of `year1`.\n",
    "-   Calculate the sum of `desc` and `desc` and store the result in a new\n",
    "    variable `doubledesc`.\n",
    "-   Print out `doubledesc`. Did you expect this?\n"
   ]
  },
  {
   "cell_type": "code",
   "execution_count": 7,
   "metadata": {},
   "outputs": [
    {
     "name": "stdout",
     "output_type": "stream",
     "text": [
      "<class 'float'>\n",
      "compound interestcompound interest\n"
     ]
    }
   ],
   "source": [
    "savings = 100\n",
    "growth_multiplier = 1.1\n",
    "desc = \"compound interest\"\n",
    "\n",
    "# Assign product of savings and growth_multiplier to year1\n",
    "year1 = savings * growth_multiplier\n",
    "\n",
    "# Print the type of year1\n",
    "print(type(year1))\n",
    "\n",
    "# Assign sum of desc and desc to doubledesc\n",
    "doubledesc = desc + desc\n",
    "\n",
    "# Print out doubledesc\n",
    "print(doubledesc)\n"
   ]
  },
  {
   "cell_type": "markdown",
   "metadata": {},
   "source": [
    "### Type conversion\n",
    "\n",
    "Using the `+` operator to paste together two strings can be very useful\n",
    "in building custom messages.\n",
    "\n",
    "Suppose, for example, that you've calculated the return of your\n",
    "investment and want to summarize the results in a string.\n",
    "\n",
    "To do this, you'll need to explicitly convert the types of your\n",
    "variables so that they are all strings. More specifically, you'll need\n",
    "[`str()`](https://docs.python.org/3/library/functions.html#func-str), to\n",
    "convert a value into a string. `str(savings)`, for example, will convert\n",
    "the integer `savings` to a string.\n",
    "\n",
    "Similar functions such as\n",
    "[`int()`](https://docs.python.org/3/library/functions.html#int),\n",
    "[`float()`](https://docs.python.org/3/library/functions.html#float) and\n",
    "[`bool()`](https://docs.python.org/3/library/functions.html#bool) will\n",
    "help you convert Python values into any type.\n",
    "\n",
    "-   Hit *Run Code* to run the code. Try to understand the error message.\n",
    "-   Fix the code such that the printout runs without errors; use the\n",
    "    function\n",
    "    [`str()`](https://docs.python.org/3/library/functions.html#func-str)\n",
    "    to convert the variables to strings.\n",
    "-   Convert the variable `pi_string` to a float and store this float as\n",
    "    a new variable, `pi_float`.\n"
   ]
  },
  {
   "cell_type": "code",
   "execution_count": 8,
   "metadata": {},
   "outputs": [
    {
     "name": "stdout",
     "output_type": "stream",
     "text": [
      "I started with $100 and now have $194.87171000000012. Awesome!\n"
     ]
    }
   ],
   "source": [
    "# Definition of savings and result\n",
    "savings = 100\n",
    "result = 100 * 1.10 ** 7\n",
    "\n",
    "# Fix the printout\n",
    "print(\"I started with $\" + str(savings) + \" and now have $\" + str(result) + \". Awesome!\")\n",
    "\n",
    "# Definition of pi_string\n",
    "pi_string = \"3.1415926\"\n",
    "\n",
    "# Convert pi_string into float: pi_float\n",
    "pi_float = float(pi_string)\n"
   ]
  },
  {
   "cell_type": "markdown",
   "metadata": {},
   "source": [
    "### Can Python handle everything?\n",
    "\n",
    "Now that you know something more about combining different sources of\n",
    "information, have a look at the four Python expressions below. Which one\n",
    "of these will throw an error? You can always copy and paste this code in\n",
    "the IPython Shell to find out!\n",
    "\n",
    "- [ ] `\"I can add integers, like \" + str(5) + \" to strings.\"`\n",
    "- [ ] `\"I said \" + (\"Hey \" * 2) + \"Hey!\"`\n",
    "- [x] `\"The correct answer to this multiple choice exercise is answer number \" + 2`\n",
    "- [ ] `True + False`\n",
    "\n",
    "# Python Lists\n",
    "\n",
    "Learn to store, access, and manipulate data in lists: the first step toward efficiently working with huge amounts of data.\n",
    "\n",
    "## Python Lists\n",
    "\n",
    "### Create a list\n",
    "\n",
    "As opposed to `int`, `bool` etc., a list is a **compound data type**;\n",
    "you can group values together:\n",
    "\n",
    "    a = \"is\"\n",
    "    b = \"nice\"\n",
    "    my_list = [\"my\", \"list\", a, b]\n",
    "\n",
    "After measuring the height of your family, you decide to collect some\n",
    "information on the house you're living in. The areas of the different\n",
    "parts of your house are stored in separate variables for now, as shown\n",
    "in the script.\n",
    "\n",
    "-   Create a list, `areas`, that contains the area of the hallway\n",
    "    (`hall`), kitchen (`kit`), living room (`liv`), bedroom (`bed`) and\n",
    "    bathroom (`bath`), in this order. Use the predefined variables.\n",
    "-   Print `areas` with the\n",
    "    [`print()`](https://docs.python.org/3/library/functions.html#print)\n",
    "    function.\n"
   ]
  },
  {
   "cell_type": "code",
   "execution_count": 9,
   "metadata": {},
   "outputs": [
    {
     "name": "stdout",
     "output_type": "stream",
     "text": [
      "[11.25, 18.0, 20.0, 10.75, 9.5]\n"
     ]
    }
   ],
   "source": [
    "# Area variables (in square meters)\n",
    "hall = 11.25\n",
    "kit = 18.0\n",
    "liv = 20.0\n",
    "bed = 10.75\n",
    "bath = 9.50\n",
    "\n",
    "# Create list areas\n",
    "areas = [hall, kit, liv, bed, bath]\n",
    "\n",
    "# Print areas\n",
    "print(areas)\n"
   ]
  },
  {
   "cell_type": "markdown",
   "metadata": {},
   "source": [
    "### Create list with different types\n",
    "\n",
    "A list can contain any Python type. Although it's not really common, a\n",
    "list can also contain a mix of Python types including strings, floats,\n",
    "booleans, etc.\n",
    "\n",
    "The printout of the previous exercise wasn't really satisfying. It's\n",
    "just a list of numbers representing the areas, but you can't tell which\n",
    "area corresponds to which part of your house.\n",
    "\n",
    "The code in the editor is the start of a solution. For some of the\n",
    "areas, the name of the corresponding room is already placed in front.\n",
    "Pay attention here! `\"bathroom\"` is a string, while `bath` is a variable\n",
    "that represents the float `9.50` you specified earlier.\n",
    "\n",
    "-   Finish the code that creates the `areas` list. Build the list so\n",
    "    that the list first contains the name of each room as a string and\n",
    "    then its area. In other words, add the strings `\"hallway\"`,\n",
    "    `\"kitchen\"` and `\"bedroom\"` at the appropriate locations.\n",
    "-   Print `areas` again; is the printout more informative this time?\n"
   ]
  },
  {
   "cell_type": "code",
   "execution_count": 10,
   "metadata": {},
   "outputs": [
    {
     "name": "stdout",
     "output_type": "stream",
     "text": [
      "['hallway', 11.25, 'kitchen', 18.0, 'living room', 20.0, 'bedroom', 10.75, 'bathroom', 9.5]\n"
     ]
    }
   ],
   "source": [
    "# area variables (in square meters)\n",
    "hall = 11.25\n",
    "kit = 18.0\n",
    "liv = 20.0\n",
    "bed = 10.75\n",
    "bath = 9.50\n",
    "\n",
    "# Adapt list areas\n",
    "areas = [\"hallway\", hall, \"kitchen\", kit, \"living room\", liv, \"bedroom\", bed, \"bathroom\", bath]\n",
    "\n",
    "# Print areas\n",
    "print(areas)\n"
   ]
  },
  {
   "cell_type": "markdown",
   "metadata": {},
   "source": [
    "### Select the valid list\n",
    "\n",
    "A list can contain any Python type. But a list itself is also a Python\n",
    "type. That means that a list can also contain a list! Python is getting\n",
    "funkier by the minute, but fear not, just remember the list syntax:\n",
    "\n",
    "    my_list = [el1, el2, el3]\n",
    "\n",
    "Can you tell which ones of the following lines of Python code are valid\n",
    "ways to build a list?\n",
    "\n",
    "A. `[1, 3, 4, 2]` B. `[[1, 2, 3], [4, 5, 7]]` C. `[1 + 2, \"a\" * 5, 3]`\n",
    "\n",
    "- [x] A, B and C\n",
    "- [ ] B\n",
    "- [ ] B and C\n",
    "- [ ] C\n",
    "\n",
    "### List of lists\n",
    "\n",
    "As a data scientist, you'll often be dealing with a lot of data, and it\n",
    "will make sense to group some of this data.\n",
    "\n",
    "Instead of creating a flat list containing strings and floats,\n",
    "representing the names and areas of the rooms in your house, you can\n",
    "create a list of lists. The script in the editor can already give you an\n",
    "idea.\n",
    "\n",
    "Don't get confused here: `\"hallway\"` is a string, while `hall` is a\n",
    "variable that represents the float `11.25` you specified earlier.\n",
    "\n",
    "-   Finish the list of lists so that it also contains the bedroom and\n",
    "    bathroom data. Make sure you enter these in order!\n",
    "-   Print out `house`; does this way of structuring your data make more\n",
    "    sense?\n",
    "-   Print out the type of `house`. Are you still dealing with a list?\n"
   ]
  },
  {
   "cell_type": "code",
   "execution_count": 11,
   "metadata": {},
   "outputs": [
    {
     "name": "stdout",
     "output_type": "stream",
     "text": [
      "[['hallway', 11.25], ['kitchen', 18.0], ['living room', 20.0], ['bedroom', 10.75], ['bathroom', 9.5]]\n",
      "<class 'list'>\n"
     ]
    }
   ],
   "source": [
    "# area variables (in square meters)\n",
    "hall = 11.25\n",
    "kit = 18.0\n",
    "liv = 20.0\n",
    "bed = 10.75\n",
    "bath = 9.50\n",
    "\n",
    "# house information as list of lists\n",
    "house = [[\"hallway\", hall],\n",
    "         [\"kitchen\", kit],\n",
    "         [\"living room\", liv],\n",
    "         [\"bedroom\", bed],\n",
    "         [\"bathroom\", bath]]\n",
    "\n",
    "# Print out house\n",
    "print(house)\n",
    "\n",
    "# Print out the type of house\n",
    "print(type(house))\n"
   ]
  },
  {
   "cell_type": "markdown",
   "metadata": {},
   "source": [
    "## Methods\n",
    "\n",
    "### Subset and conquer\n",
    "\n",
    "Subsetting Python lists is a piece of cake. Take the code sample below,\n",
    "which creates a list `x` and then selects \"b\" from it. Remember that\n",
    "this is the second element, so it has index 1. You can also use negative\n",
    "indexing.\n",
    "\n",
    "    x = [\"a\", \"b\", \"c\", \"d\"]\n",
    "    x[1]\n",
    "    x[-3] # same result!\n",
    "\n",
    "Remember the `areas` list from before, containing both strings and\n",
    "floats? Its definition is already in the script. Can you add the correct\n",
    "code to do some Python subsetting?\n",
    "\n",
    "-   Print out the second element from the `areas` list (it has the value\n",
    "    `11.25`).\n",
    "-   Subset and print out the last element of `areas`, being `9.50`.\n",
    "    Using a negative index makes sense here!\n",
    "-   Select the number representing the area of the living room (`20.0`)\n",
    "    and print it out.\n"
   ]
  },
  {
   "cell_type": "code",
   "execution_count": 12,
   "metadata": {},
   "outputs": [
    {
     "name": "stdout",
     "output_type": "stream",
     "text": [
      "11.25\n",
      "9.5\n",
      "20.0\n"
     ]
    }
   ],
   "source": [
    "# Create the areas list\n",
    "areas = [\"hallway\", 11.25, \"kitchen\", 18.0, \"living room\", 20.0, \"bedroom\", 10.75, \"bathroom\", 9.50]\n",
    "\n",
    "# Print out second element from areas\n",
    "print(areas[1])\n",
    "\n",
    "# Print out last element from areas\n",
    "print(areas[-1])\n",
    "\n",
    "# Print out the area of the living room\n",
    "print(areas[5])\n"
   ]
  },
  {
   "cell_type": "markdown",
   "metadata": {},
   "source": [
    "### Subset and calculate\n",
    "\n",
    "After you've extracted values from a list, you can use them to perform\n",
    "additional calculations. Take this example, where the second and fourth\n",
    "element of a list `x` are extracted. The strings that result are pasted\n",
    "together using the `+` operator:\n",
    "\n",
    "    x = [\"a\", \"b\", \"c\", \"d\"]\n",
    "    print(x[1] + x[3])\n",
    "\n",
    "-   Using a combination of list subsetting and variable assignment,\n",
    "    create a new variable, `eat_sleep_area`, that contains the sum of\n",
    "    the area of the kitchen and the area of the bedroom.\n",
    "-   Print the new variable `eat_sleep_area`.\n"
   ]
  },
  {
   "cell_type": "code",
   "execution_count": 13,
   "metadata": {},
   "outputs": [
    {
     "name": "stdout",
     "output_type": "stream",
     "text": [
      "28.75\n"
     ]
    }
   ],
   "source": [
    "# Create the areas list\n",
    "areas = [\"hallway\", 11.25, \"kitchen\", 18.0, \"living room\", 20.0, \"bedroom\", 10.75, \"bathroom\", 9.50]\n",
    "\n",
    "# Sum of kitchen and bedroom area: eat_sleep_area\n",
    "eat_sleep_area = areas[3] + areas[-3]\n",
    "\n",
    "# Print the variable eat_sleep_area\n",
    "print(eat_sleep_area)\n"
   ]
  },
  {
   "cell_type": "markdown",
   "metadata": {},
   "source": [
    "### Slicing and dicing\n",
    "\n",
    "Selecting single values from a list is just one part of the story. It's\n",
    "also possible to *slice* your list, which means selecting multiple\n",
    "elements from your list. Use the following syntax:\n",
    "\n",
    "    my_list[start:end]\n",
    "\n",
    "The `start` index will be included, while the `end` index is *not*.\n",
    "\n",
    "The code sample below shows an example. A list with `\"b\"` and `\"c\"`,\n",
    "corresponding to indexes 1 and 2, are selected from a list `x`:\n",
    "\n",
    "    x = [\"a\", \"b\", \"c\", \"d\"]\n",
    "    x[1:3]\n",
    "\n",
    "The elements with index 1 and 2 are included, while the element with\n",
    "index 3 is not.\n",
    "\n",
    "-   Use slicing to create a list, `downstairs`, that contains the first\n",
    "    6 elements of `areas`.\n",
    "-   Do a similar thing to create a new variable, `upstairs`, that\n",
    "    contains the last 4 elements of `areas`.\n",
    "-   Print both `downstairs` and `upstairs` using\n",
    "    [`print()`](https://docs.python.org/3/library/functions.html#print).\n"
   ]
  },
  {
   "cell_type": "code",
   "execution_count": 14,
   "metadata": {},
   "outputs": [
    {
     "name": "stdout",
     "output_type": "stream",
     "text": [
      "['hallway', 11.25, 'kitchen', 18.0, 'living room', 20.0]\n",
      "['bedroom', 10.75, 'bathroom', 9.5]\n"
     ]
    }
   ],
   "source": [
    "# Create the areas list\n",
    "areas = [\"hallway\", 11.25, \"kitchen\", 18.0, \"living room\", 20.0, \"bedroom\", 10.75, \"bathroom\", 9.50]\n",
    "\n",
    "# Use slicing to create downstairs\n",
    "downstairs = areas[0:6]\n",
    "\n",
    "# Use slicing to create upstairs\n",
    "upstairs = areas[6:10]\n",
    "\n",
    "# Print out downstairs and upstairs\n",
    "print(downstairs)\n",
    "print(upstairs)\n"
   ]
  },
  {
   "cell_type": "markdown",
   "metadata": {},
   "source": [
    "### Slicing and dicing (2)\n",
    "\n",
    "In the video, Hugo first discussed the syntax where you specify both\n",
    "where to begin and end the slice of your list:\n",
    "\n",
    "    my_list[begin:end]\n",
    "\n",
    "However, it's also possible not to specify these indexes. If you don't\n",
    "specify the `begin` index, Python figures out that you want to start\n",
    "your slice at the beginning of your list. If you don't specify the `end`\n",
    "index, the slice will go all the way to the last element of your list.\n",
    "To experiment with this, try the following commands in the IPython\n",
    "Shell:\n",
    "\n",
    "    x = [\"a\", \"b\", \"c\", \"d\"]\n",
    "    x[:2]\n",
    "    x[2:]\n",
    "    x[:]\n",
    "\n",
    "-   Create `downstairs` again, as the first `6` elements of `areas`.\n",
    "    This time, simplify the slicing by omitting the `begin` index.\n",
    "-   Create `upstairs` again, as the last `4` elements of `areas`. This\n",
    "    time, simplify the slicing by omitting the `end` index.\n"
   ]
  },
  {
   "cell_type": "code",
   "execution_count": 15,
   "metadata": {},
   "outputs": [],
   "source": [
    "# Create the areas list\n",
    "areas = [\"hallway\", 11.25, \"kitchen\", 18.0, \"living room\", 20.0, \"bedroom\", 10.75, \"bathroom\", 9.50]\n",
    "\n",
    "# Alternative slicing to create downstairs\n",
    "downstairs = areas[:6]\n",
    "\n",
    "# Alternative slicing to create upstairs\n",
    "upstairs = areas[6:]\n"
   ]
  },
  {
   "cell_type": "markdown",
   "metadata": {},
   "source": [
    "### Subsetting lists of lists\n",
    "\n",
    "You saw before that a Python list can contain practically anything; even\n",
    "other lists! To subset lists of lists, you can use the same technique as\n",
    "before: square brackets. Try out the commands in the following code\n",
    "sample in the IPython Shell:\n",
    "\n",
    "    x = [[\"a\", \"b\", \"c\"],\n",
    "         [\"d\", \"e\", \"f\"],\n",
    "         [\"g\", \"h\", \"i\"]]\n",
    "    x[2][0]\n",
    "    x[2][:2]\n",
    "\n",
    "`x[2]` results in a list, that you can subset again by adding additional\n",
    "square brackets.\n",
    "\n",
    "What will `house[-1][1]` return? `house`, the list of lists that you\n",
    "created before, is already defined for you in the workspace. You can\n",
    "experiment with it in the IPython Shell.\n",
    "\n",
    "- [ ] A float: the kitchen area\n",
    "- [ ] A string: `\"kitchen\"`\n",
    "- [x] A float: the bathroom area\n",
    "- [ ] A string: `\"bathroom\"`\n",
    "\n",
    "## Manipulating Lists\n",
    "\n",
    "### Replace list elements\n",
    "\n",
    "Replacing list elements is pretty easy. Simply subset the list and\n",
    "assign new values to the subset. You can select single elements or you\n",
    "can change entire list slices at once.\n",
    "\n",
    "Use the IPython Shell to experiment with the commands below. Can you\n",
    "tell what's happening and why?\n",
    "\n",
    "    x = [\"a\", \"b\", \"c\", \"d\"]\n",
    "    x[1] = \"r\"\n",
    "    x[2:] = [\"s\", \"t\"]\n",
    "\n",
    "For this and the following exercises, you'll continue working on the\n",
    "`areas` list that contains the names and areas of different rooms in a\n",
    "house.\n",
    "\n",
    "-   Update the area of the bathroom area to be 10.50 square meters\n",
    "    instead of 9.50.\n",
    "-   Make the `areas` list more trendy! Change `\"living room\"` to\n",
    "    `\"chill zone\"`.\n"
   ]
  },
  {
   "cell_type": "code",
   "execution_count": 16,
   "metadata": {},
   "outputs": [],
   "source": [
    "# Create the areas list\n",
    "areas = [\"hallway\", 11.25, \"kitchen\", 18.0, \"living room\", 20.0, \"bedroom\", 10.75, \"bathroom\", 9.50]\n",
    "\n",
    "# Correct the bathroom area\n",
    "areas[-1] = 10.50\n",
    "\n",
    "# Change \"living room\" to \"chill zone\"\n",
    "areas[4] = \"chill zone\"\n"
   ]
  },
  {
   "cell_type": "markdown",
   "metadata": {},
   "source": [
    "### Extend a list\n",
    "\n",
    "If you can change elements in a list, you sure want to be able to add\n",
    "elements to it, right? You can use the `+` operator:\n",
    "\n",
    "    x = [\"a\", \"b\", \"c\", \"d\"]\n",
    "    y = x + [\"e\", \"f\"]\n",
    "\n",
    "You just won the lottery, awesome! You decide to build a poolhouse and a\n",
    "garage. Can you add the information to the `areas` list?\n",
    "\n",
    "-   Use the `+` operator to paste the list `[\"poolhouse\", 24.5]` to the\n",
    "    end of the `areas` list. Store the resulting list as `areas_1`.\n",
    "-   Further extend `areas_1` by adding data on your garage. Add the\n",
    "    string `\"garage\"` and float `15.45`. Name the resulting list\n",
    "    `areas_2`.\n"
   ]
  },
  {
   "cell_type": "code",
   "execution_count": 17,
   "metadata": {},
   "outputs": [],
   "source": [
    "# Create the areas list (updated version)\n",
    "areas = [\"hallway\", 11.25, \"kitchen\", 18.0, \"chill zone\", 20.0,\n",
    "         \"bedroom\", 10.75, \"bathroom\", 10.50]\n",
    "\n",
    "# Add poolhouse data to areas, new list is areas_1\n",
    "areas_1 = areas + [\"poolhouse\", 24.5]\n",
    "\n",
    "# Add garage data to areas_1, new list is areas_2\n",
    "areas_2 = areas_1 + [\"garage\", 15.45]\n"
   ]
  },
  {
   "cell_type": "markdown",
   "metadata": {},
   "source": [
    "### Delete list elements\n",
    "\n",
    "Finally, you can also remove elements from your list. You can do this\n",
    "with the `del` statement:\n",
    "\n",
    "    x = [\"a\", \"b\", \"c\", \"d\"]\n",
    "    del(x[1])\n",
    "\n",
    "Pay attention here: as soon as you remove an element from a list, the\n",
    "indexes of the elements that come after the deleted element all change!\n",
    "\n",
    "The updated and extended version of `areas` that you've built in the\n",
    "previous exercises is coded below. You can copy and paste this into the\n",
    "IPython Shell to play around with the result.\n",
    "\n",
    "    areas = [\"hallway\", 11.25, \"kitchen\", 18.0,\n",
    "            \"chill zone\", 20.0, \"bedroom\", 10.75,\n",
    "             \"bathroom\", 10.50, \"poolhouse\", 24.5,\n",
    "             \"garage\", 15.45]\n",
    "\n",
    "There was a mistake! The amount you won with the lottery is not that big\n",
    "after all and it looks like the poolhouse isn't going to happen. You\n",
    "decide to remove the corresponding string and float from the `areas`\n",
    "list.\n",
    "\n",
    "The `;` sign is used to place commands on the same line. The following\n",
    "two code chunks are equivalent:\n",
    "\n",
    "    # Same line\n",
    "    command1; command2\n",
    "\n",
    "    # Separate lines\n",
    "    command1\n",
    "    command2\n",
    "\n",
    "Which of the code chunks will do the job for us?\n",
    "\n",
    "- [ ] `del(areas[10]); del(areas[11])`\n",
    "- [ ] `del(areas[10:11])`\n",
    "- [x] `del(areas[-4:-2])`\n",
    "- [ ] `del(areas[-3]); del(areas[-4])`\n",
    "\n",
    "### Inner workings of lists\n",
    "\n",
    "At the end of the video, Hugo explained how Python lists work behind the\n",
    "scenes. In this exercise you'll get some hands-on experience with this.\n",
    "\n",
    "The Python code in the script already creates a list with the name\n",
    "`areas` and a copy named `areas_copy`. Next, the first element in the\n",
    "`areas_copy` list is changed and the `areas` list is printed out. If you\n",
    "hit *Run Code* you'll see that, although you've changed `areas_copy`,\n",
    "the change also takes effect in the `areas` list. That's because `areas`\n",
    "and `areas_copy` point to the same list.\n",
    "\n",
    "If you want to prevent changes in `areas_copy` from also taking effect\n",
    "in `areas`, you'll have to do a more explicit copy of the `areas` list.\n",
    "You can do this with\n",
    "[`list()`](https://docs.python.org/3/library/functions.html#func-list)\n",
    "or by using `[:]`.\n",
    "\n",
    "Change the second command, that creates the variable `areas_copy`, such\n",
    "that `areas_copy` is an explicit copy of `areas`. After your edit,\n",
    "changes made to `areas_copy` shouldn't affect `areas`. Submit the answer\n",
    "to check this.\n"
   ]
  },
  {
   "cell_type": "code",
   "execution_count": 18,
   "metadata": {},
   "outputs": [
    {
     "name": "stdout",
     "output_type": "stream",
     "text": [
      "[11.25, 18.0, 20.0, 10.75, 9.5]\n"
     ]
    }
   ],
   "source": [
    "# Create list areas\n",
    "areas = [11.25, 18.0, 20.0, 10.75, 9.50]\n",
    "\n",
    "# Create areas_copy\n",
    "areas_copy = list(areas)\n",
    "\n",
    "# Change areas_copy\n",
    "areas_copy[0] = 5.0\n",
    "\n",
    "# Print areas\n",
    "print(areas)\n"
   ]
  },
  {
   "cell_type": "markdown",
   "metadata": {},
   "source": [
    "# Functions and Packages\n",
    "\n",
    "You'll learn how to use functions, methods, and packages to efficiently leverage the code that brilliant Python developers have written. The goal is to reduce the amount of code you need to solve challenging problems!\n",
    "\n",
    "## Functions\n",
    "\n",
    "### Familiar functions\n",
    "\n",
    "Out of the box, Python offers a bunch of built-in functions to make your\n",
    "life as a data scientist easier. You already know two such functions:\n",
    "[`print()`](https://docs.python.org/3/library/functions.html#print) and\n",
    "[`type()`](https://docs.python.org/3/library/functions.html#type).\n",
    "You've also used the functions\n",
    "[`str()`](https://docs.python.org/3/library/functions.html#func-str),\n",
    "[`int()`](https://docs.python.org/3/library/functions.html#int),\n",
    "[`bool()`](https://docs.python.org/3/library/functions.html#bool) and\n",
    "[`float()`](https://docs.python.org/3/library/functions.html#float) to\n",
    "switch between data types. These are built-in functions as well.\n",
    "\n",
    "Calling a function is easy. To get the type of `3.0` and store the\n",
    "output as a new variable, `result`, you can use the following:\n",
    "\n",
    "    result = type(3.0)\n",
    "\n",
    "The general recipe for calling functions and saving the result to a\n",
    "variable is thus:\n",
    "\n",
    "    output = function_name(input)\n",
    "\n",
    "-   Use\n",
    "    [`print()`](https://docs.python.org/3/library/functions.html#print)\n",
    "    in combination with\n",
    "    [`type()`](https://docs.python.org/3/library/functions.html#type) to\n",
    "    print out the type of `var1`.\n",
    "-   Use [`len()`](https://docs.python.org/3/library/functions.html#len)\n",
    "    to get the length of the list `var1`. Wrap it in a\n",
    "    [`print()`](https://docs.python.org/3/library/functions.html#print)\n",
    "    call to directly print it out.\n",
    "-   Use [`int()`](https://docs.python.org/3/library/functions.html#int)\n",
    "    to convert `var2` to an integer. Store the output as `out2`.\n"
   ]
  },
  {
   "cell_type": "code",
   "execution_count": 19,
   "metadata": {},
   "outputs": [
    {
     "name": "stdout",
     "output_type": "stream",
     "text": [
      "<class 'list'>\n",
      "4\n"
     ]
    }
   ],
   "source": [
    "# Create variables var1 and var2\n",
    "var1 = [1, 2, 3, 4]\n",
    "var2 = True\n",
    "\n",
    "# Print out type of var1\n",
    "print(type(var1))\n",
    "\n",
    "# Print out length of var1\n",
    "print(len(var1))\n",
    "\n",
    "# Convert var2 to an integer: out2\n",
    "out2 = int(var2)\n"
   ]
  },
  {
   "cell_type": "markdown",
   "metadata": {},
   "source": [
    "### Help!\n",
    "\n",
    "Maybe you already know the name of a Python function, but you still have\n",
    "to figure out how to use it. Ironically, you have to ask for information\n",
    "about a function with another function:\n",
    "[`help()`](https://docs.python.org/3/library/functions.html#help). In\n",
    "IPython specifically, you can also use `?` before the function name.\n",
    "\n",
    "To get help on the\n",
    "[`max()`](https://docs.python.org/3/library/functions.html#max)\n",
    "function, for example, you can use one of these calls:\n",
    "\n",
    "    help(max)\n",
    "    ?max\n",
    "\n",
    "Use the IPython Shell to open up the documentation on\n",
    "[`pow()`](https://docs.python.org/3/library/functions.html#pow). Which\n",
    "of the following statements is true?\n",
    "\n",
    "- [ ] `pow()` takes three arguments: `base`, `exp`, and `mod`. If you\n",
    "    don't specify `mod`, the function will return an error.\n",
    "- [ ] `pow()` takes three arguments: `base`, `exp`, and `None`. All of\n",
    "    these arguments are required.\n",
    "- [x] `pow()` takes three arguments: `base`, `exp`, and `mod`. `base` and\n",
    "    `exp` are required arguments, `mod` is an optional argument.\n",
    "- [ ] `pow()` takes two arguments: `exp` and `mod`. If you don't specify\n",
    "    `exp`, the function will return an error.\n",
    "\n",
    "### Multiple arguments\n",
    "\n",
    "In the previous exercise, you identified optional arguments by viewing\n",
    "the documentation with `help()`. You'll now apply this to change the\n",
    "behavior of the `sorted()` function.\n",
    "\n",
    "Have a look at the documentation of\n",
    "[`sorted()`](https://docs.python.org/3/library/functions.html#sorted) by\n",
    "typing `help(sorted)` in the IPython Shell.\n",
    "\n",
    "You'll see that\n",
    "[`sorted()`](https://docs.python.org/3/library/functions.html#sorted)\n",
    "takes three arguments: `iterable`, `key`, and `reverse`.\n",
    "\n",
    "`key=None` means that if you don't specify the `key` argument, it will\n",
    "be `None`. `reverse=False` means that if you don't specify the `reverse`\n",
    "argument, it will be `False`, by default.\n",
    "\n",
    "In this exercise, you'll only have to specify `iterable` and `reverse`,\n",
    "not `key`. The first input you pass to\n",
    "[`sorted()`](https://docs.python.org/3/library/functions.html#sorted)\n",
    "will be matched to the `iterable` argument, but what about the second\n",
    "input? To tell Python you want to specify `reverse` without changing\n",
    "anything about `key`, you can use `=` to assign it a new value:\n",
    "\n",
    "    sorted(____, reverse=____)\n",
    "\n",
    "Two lists have been created for you. Can you paste them together and\n",
    "sort them in descending order?\n",
    "\n",
    "Note: For now, we can understand an\n",
    "[*iterable*](https://docs.python.org/3/glossary.html#term-iterable) as\n",
    "being any collection of objects, e.g., a List.\n",
    "\n",
    "-   Use `+` to merge the contents of `first` and `second` into a new\n",
    "    list: `full`.\n",
    "-   Call\n",
    "    [`sorted()`](https://docs.python.org/3/library/functions.html#sorted)\n",
    "    on `full` and specify the `reverse` argument to be `True`. Save the\n",
    "    sorted list as `full_sorted`.\n",
    "-   Finish off by printing out `full_sorted`.\n"
   ]
  },
  {
   "cell_type": "code",
   "execution_count": 20,
   "metadata": {},
   "outputs": [
    {
     "name": "stdout",
     "output_type": "stream",
     "text": [
      "[20.0, 18.0, 11.25, 10.75, 9.5]\n"
     ]
    }
   ],
   "source": [
    "# Create lists first and second\n",
    "first = [11.25, 18.0, 20.0]\n",
    "second = [10.75, 9.50]\n",
    "\n",
    "# Paste together first and second: full\n",
    "full = first + second\n",
    "\n",
    "# Sort full in descending order: full_sorted\n",
    "full_sorted = sorted(full, reverse=True)\n",
    "\n",
    "# Print out full_sorted\n",
    "print(full_sorted)\n"
   ]
  },
  {
   "cell_type": "markdown",
   "metadata": {},
   "source": [
    "## Subsetting Lists\n",
    "\n",
    "### String Methods\n",
    "\n",
    "Strings come with a bunch of methods. Follow the instructions closely to\n",
    "discover some of them. If you want to discover them in more detail, you\n",
    "can always type `help(str)` in the IPython Shell.\n",
    "\n",
    "A string `place` has already been created for you to experiment with.\n",
    "\n",
    "-   Use the\n",
    "    [`upper()`](https://docs.python.org/3/library/stdtypes.html#str.upper)\n",
    "    method on `place` and store the result in `place_up`. Use the syntax\n",
    "    for calling methods that you learned in the previous video.\n",
    "-   Print out `place` and `place_up`. Did both change?\n",
    "-   Print out the number of o's on the variable `place` by calling\n",
    "    [`count()`](https://docs.python.org/3/library/stdtypes.html#str.count)\n",
    "    on `place` and passing the letter `'o'` as an input to the method.\n",
    "    We're talking about the variable `place`, not the word `\"place\"`!\n"
   ]
  },
  {
   "cell_type": "code",
   "execution_count": 21,
   "metadata": {},
   "outputs": [
    {
     "name": "stdout",
     "output_type": "stream",
     "text": [
      "poolhouse\n",
      "POOLHOUSE\n",
      "3\n"
     ]
    }
   ],
   "source": [
    "# string to experiment with: place\n",
    "place = \"poolhouse\"\n",
    "\n",
    "# Use upper() on place: place_up\n",
    "place_up = place.upper()\n",
    "\n",
    "# Print out place and place_up\n",
    "print(place)\n",
    "print(place_up)\n",
    "\n",
    "# Print out the number of o's in place\n",
    "print(place.count('o'))\n"
   ]
  },
  {
   "cell_type": "markdown",
   "metadata": {},
   "source": [
    "### List Methods\n",
    "\n",
    "Strings are not the only Python types that have methods associated with\n",
    "them. Lists, floats, integers and booleans are also types that come\n",
    "packaged with a bunch of useful methods. In this exercise, you'll be\n",
    "experimenting with:\n",
    "\n",
    "-   [`index()`](https://docs.python.org/3/library/stdtypes.html#str.index),\n",
    "    to get the index of the first element of a list that matches its\n",
    "    input and\n",
    "-   [`count()`](https://docs.python.org/3/library/stdtypes.html#str.count),\n",
    "    to get the number of times an element appears in a list.\n",
    "\n",
    "You'll be working on the list with the area of different parts of a\n",
    "house: `areas`.\n",
    "\n",
    "-   Use the\n",
    "    [`index()`](https://docs.python.org/3/library/stdtypes.html#str.index)\n",
    "    method to get the index of the element in `areas` that is equal to\n",
    "    `20.0`. Print out this index.\n",
    "-   Call\n",
    "    [`count()`](https://docs.python.org/3/library/stdtypes.html#str.count)\n",
    "    on `areas` to find out how many times `9.50` appears in the list.\n",
    "    Again, simply print out this number.\n"
   ]
  },
  {
   "cell_type": "code",
   "execution_count": 22,
   "metadata": {},
   "outputs": [
    {
     "name": "stdout",
     "output_type": "stream",
     "text": [
      "2\n",
      "1\n"
     ]
    }
   ],
   "source": [
    "# Create list areas\n",
    "areas = [11.25, 18.0, 20.0, 10.75, 9.50]\n",
    "\n",
    "# Print out the index of the element 20.0\n",
    "print(areas.index(20.0))\n",
    "\n",
    "# Print out how often 9.50 appears in areas\n",
    "print(areas.count(9.50))\n"
   ]
  },
  {
   "cell_type": "markdown",
   "metadata": {},
   "source": [
    "### List Methods (2)\n",
    "\n",
    "Most list methods will change the list they're called on. Examples are:\n",
    "\n",
    "-   [`append()`](https://docs.python.org/3/library/stdtypes.html#typesseq-mutable),\n",
    "    that adds an element to the list it is called on,\n",
    "-   [`remove()`](https://docs.python.org/3/library/stdtypes.html#typesseq-mutable),\n",
    "    that removes the first element of a list that matches the input, and\n",
    "-   [`reverse()`](https://docs.python.org/3/library/stdtypes.html#typesseq-mutable),\n",
    "    that reverses the order of the elements in the list it is called on.\n",
    "\n",
    "You'll be working on the list with the area of different parts of the\n",
    "house: `areas`.\n",
    "\n",
    "-   Use\n",
    "    [`append()`](https://docs.python.org/3/library/stdtypes.html#typesseq-mutable)\n",
    "    twice to add the size of the poolhouse and the garage again: `24.5`\n",
    "    and `15.45`, respectively. Make sure to add them in this order.\n",
    "-   Print out `areas`\n",
    "-   Use the\n",
    "    [`reverse()`](https://docs.python.org/3/library/stdtypes.html#typesseq-mutable)\n",
    "    method to reverse the order of the elements in `areas`.\n",
    "-   Print out `areas` once more.\n"
   ]
  },
  {
   "cell_type": "code",
   "execution_count": 23,
   "metadata": {},
   "outputs": [
    {
     "name": "stdout",
     "output_type": "stream",
     "text": [
      "[11.25, 18.0, 20.0, 10.75, 9.5, 24.5, 15.45]\n",
      "[15.45, 24.5, 9.5, 10.75, 20.0, 18.0, 11.25]\n"
     ]
    }
   ],
   "source": [
    "# Create list areas\n",
    "areas = [11.25, 18.0, 20.0, 10.75, 9.50]\n",
    "\n",
    "# Use append twice to add poolhouse and garage size\n",
    "areas.append(24.5)\n",
    "areas.append(15.45)\n",
    "\n",
    "# Print out areas\n",
    "print(areas)\n",
    "\n",
    "# Reverse the orders of the elements in areas\n",
    "areas.reverse()\n",
    "\n",
    "# Print out areas\n",
    "print(areas)\n"
   ]
  },
  {
   "cell_type": "markdown",
   "metadata": {},
   "source": [
    "## Packages\n",
    "\n",
    "### Import package\n",
    "\n",
    "As a data scientist, some notions of geometry never hurt. Let's refresh\n",
    "some of the basics.\n",
    "\n",
    "For a fancy clustering algorithm, you want to find the circumference,\n",
    "$C$, and area, $A$, of a circle. When the radius of the circle is\n",
    "`r`, you can calculate $C$ and $A$ as:\n",
    "\n",
    "$C = 2 \\pi r$\n",
    "$A = \\pi r^2 $\n",
    "\n",
    "To use the constant `pi`, you'll need the `math` package. A variable `r`\n",
    "is already coded in the script. Fill in the code to calculate `C` and\n",
    "`A` and see how the\n",
    "[`print()`](https://docs.python.org/3/library/functions.html#print)\n",
    "functions create some nice printouts.\n",
    "\n",
    "-   Import the `math` package. Now you can access the constant `pi` with\n",
    "    `math.pi`.\n",
    "-   Calculate the circumference of the circle and store it in `C`.\n",
    "-   Calculate the area of the circle and store it in `A`.\n"
   ]
  },
  {
   "cell_type": "code",
   "execution_count": 24,
   "metadata": {},
   "outputs": [
    {
     "name": "stdout",
     "output_type": "stream",
     "text": [
      "Circumference: 2.701769682087222\n",
      "Area: 0.5808804816487527\n"
     ]
    }
   ],
   "source": [
    "# Definition of radius\n",
    "r = 0.43\n",
    "\n",
    "# Import the math package\n",
    "import math\n",
    "\n",
    "# Calculate C\n",
    "C = 2 * r * math.pi\n",
    "\n",
    "# Calculate A\n",
    "A = math.pi * r ** 2\n",
    "\n",
    "# Build printout\n",
    "print(\"Circumference: \" + str(C))\n",
    "print(\"Area: \" + str(A))\n"
   ]
  },
  {
   "cell_type": "markdown",
   "metadata": {},
   "source": [
    "### Selective import\n",
    "\n",
    "General imports, like `import math`, make **all** functionality from the\n",
    "`math` package available to you. However, if you decide to only use a\n",
    "specific part of a package, you can always make your import more\n",
    "selective:\n",
    "\n",
    "    from math import pi\n",
    "\n",
    "Let's say the Moon's orbit around planet Earth is a perfect circle, with\n",
    "a radius `r` (in km) that is defined in the script.\n",
    "\n",
    "-   Perform a selective import from the `math` package where you only\n",
    "    import the `radians` function.\n",
    "-   Calculate the distance travelled by the Moon over 12 degrees of its\n",
    "    orbit. Assign the result to `dist`. You can calculate this as\n",
    "    `\\r * phi`, where `r` is the radius and `phi` is the angle in\n",
    "    radians. To convert an angle in degrees to an angle in radians, use\n",
    "    the\n",
    "    [`radians()`](https://docs.python.org/3/library/math.html#math.radians)\n",
    "    function, which you just imported.\n",
    "-   Print out `dist`.\n"
   ]
  },
  {
   "cell_type": "code",
   "execution_count": 25,
   "metadata": {},
   "outputs": [
    {
     "name": "stdout",
     "output_type": "stream",
     "text": [
      "40317.10572106901\n"
     ]
    }
   ],
   "source": [
    "# Definition of radius\n",
    "r = 192500\n",
    "\n",
    "# Import radians function of math package\n",
    "from math import radians\n",
    "\n",
    "# Travel distance of Moon over 12 degrees. Store in dist.\n",
    "dist = r * radians(12)\n",
    "\n",
    "# Print out dist\n",
    "print(dist)\n"
   ]
  },
  {
   "cell_type": "markdown",
   "metadata": {},
   "source": [
    "### Different ways of importing\n",
    "\n",
    "There are several ways to import packages and modules into Python.\n",
    "Depending on the import call, you'll have to use different Python code.\n",
    "\n",
    "Suppose you want to use the function\n",
    "[`inv()`](http://docs.scipy.org/doc/numpy-1.10.0/reference/generated/numpy.linalg.inv.html),\n",
    "which is in the `linalg` subpackage of the `scipy` package. You want to\n",
    "be able to use this function as follows:\n",
    "\n",
    "    my_inv([[1,2], [3,4]])\n",
    "\n",
    "Which `import` statement will you need in order to run the above code\n",
    "without an error?\n",
    "\n",
    "- [ ]`import scipy`\n",
    "- [ ]`import scipy.linalg`\n",
    "- [ ]`from scipy.linalg import my_inv`\n",
    "- [x]`from scipy.linalg import inv as my_inv`\n",
    "\n",
    "# NumPy\n",
    "\n",
    "NumPy is a fundamental Python package to efficiently practice data science. Learn to work with powerful tools in the NumPy array, and get started with data exploration.\n",
    "\n",
    "## NumPy\n",
    "\n",
    "### Your First NumPy Array\n",
    "\n",
    "In this chapter, we're going to dive into the world of baseball. Along\n",
    "the way, you'll get comfortable with the basics of `numpy`, a powerful\n",
    "package to do data science.\n",
    "\n",
    "A list `baseball` has already been defined in the Python script,\n",
    "representing the height of some baseball players in centimeters. Can you\n",
    "add some code here and there to create a `numpy` array from it?\n",
    "\n",
    "-   Import the `numpy` package as `np`, so that you can refer to `numpy`\n",
    "    with `np`.\n",
    "-   Use\n",
    "    [`np.array()`](http://docs.scipy.org/doc/numpy-1.10.0/glossary.html#term-array)\n",
    "    to create a `numpy` array from `baseball`. Name this array\n",
    "    `np_baseball`.\n",
    "-   Print out the type of `np_baseball` to check that you got it right.\n"
   ]
  },
  {
   "cell_type": "code",
   "execution_count": 26,
   "metadata": {},
   "outputs": [
    {
     "name": "stdout",
     "output_type": "stream",
     "text": [
      "<class 'numpy.ndarray'>\n"
     ]
    }
   ],
   "source": [
    "# Create list baseball\n",
    "baseball = [180, 215, 210, 210, 188, 176, 209, 200]\n",
    "\n",
    "# Import the numpy package as np\n",
    "import numpy as np\n",
    "\n",
    "# Create a NumPy array from baseball: np_baseball\n",
    "np_baseball = np.array(baseball)\n",
    "\n",
    "# Print out type of np_baseball\n",
    "print(type(np_baseball))\n"
   ]
  },
  {
   "cell_type": "markdown",
   "metadata": {},
   "source": [
    "### Baseball players' height\n",
    "\n",
    "You are a huge baseball fan. You decide to call the MLB (Major League\n",
    "Baseball) and ask around for some more statistics on the height of the\n",
    "main players. They pass along data on more than a thousand players,\n",
    "which is stored as a regular Python list: `height_in`. The height is\n",
    "expressed in inches. Can you make a `numpy` array out of it and convert\n",
    "the units to meters?\n",
    "\n",
    "`height_in` is already available and the `numpy` package is loaded, so\n",
    "you can start straight away (Source:\n",
    "[stat.ucla.edu](https://wiki.stat.ucla.edu/socr/index.php/SOCR_Data_MLB_HeightsWeights)).\n",
    "\n",
    "-   Create a `numpy` array from `height_in`. Name this new array\n",
    "    `np_height_in`.\n",
    "-   Print `np_height_in`.\n",
    "-   Multiply `np_height_in` with `0.0254` to convert all height\n",
    "    measurements from inches to meters. Store the new values in a new\n",
    "    array, `np_height_m`.\n",
    "-   Print out `np_height_m` and check if the output makes sense.\n"
   ]
  },
  {
   "cell_type": "code",
   "execution_count": 27,
   "metadata": {},
   "outputs": [
    {
     "name": "stdout",
     "output_type": "stream",
     "text": [
      "[74 74 72 ... 75 75 73]\n",
      "[1.8796 1.8796 1.8288 ... 1.905  1.905  1.8542]\n"
     ]
    }
   ],
   "source": [
    "# edited/added\n",
    "import pandas as pd\n",
    "mlb = pd.read_csv('baseball.csv')\n",
    "\n",
    "# height_in is available as a regular list\n",
    "height_in = mlb['Height'].tolist()\n",
    "\n",
    "# height_in is available as a regular list\n",
    "\n",
    "# Import numpy\n",
    "import numpy as np\n",
    "\n",
    "# Create a numpy array from height_in: np_height_in\n",
    "np_height_in = np.array(height_in)\n",
    "\n",
    "# Print out np_height_in\n",
    "print(np_height_in)\n",
    "\n",
    "# Convert np_height_in to m: np_height_m\n",
    "np_height_m = np_height_in * 0.0254\n",
    "\n",
    "# Print np_height_m\n",
    "print(np_height_m)\n"
   ]
  },
  {
   "cell_type": "markdown",
   "metadata": {},
   "source": [
    "### Baseball player's BMI\n",
    "\n",
    "The MLB also offers to let you analyze their weight data. Again, both\n",
    "are available as regular Python lists: `height_in` and `weight_lb`.\n",
    "`height_in` is in inches and `weight_lb` is in pounds.\n",
    "\n",
    "It's now possible to calculate the BMI of each baseball player. Python\n",
    "code to convert `height_in` to a `numpy` array with the correct units is\n",
    "already available in the workspace. Follow the instructions step by step\n",
    "and finish the game!\n",
    "\n",
    "-   Create a `numpy` array from the `weight_lb` list with the correct\n",
    "    units. Multiply by `0.453592` to go from pounds to kilograms. Store\n",
    "    the resulting `numpy` array as `np_weight_kg`.\n",
    "-   Use `np_height_m` and `np_weight_kg` to calculate the BMI of each\n",
    "    player. Use the following equation: $ \\mathrm{BMI} =\n",
    "    \\frac{\\mathrm{weight (kg)}}{\\mathrm{height (m)}^2}$ Save the\n",
    "    resulting `numpy` array as `bmi`.\n",
    "-   Print out `bmi`.\n"
   ]
  },
  {
   "cell_type": "code",
   "execution_count": 28,
   "metadata": {},
   "outputs": [
    {
     "name": "stdout",
     "output_type": "stream",
     "text": [
      "[23.11037639 27.60406069 28.48080465 ... 25.62295933 23.74810865\n",
      " 25.72686361]\n"
     ]
    }
   ],
   "source": [
    "# edited/added\n",
    "weight_lb = mlb['Weight'].tolist()\n",
    "\n",
    "# height_in and weight_lb are available as regular lists\n",
    "\n",
    "# Import numpy\n",
    "import numpy as np\n",
    "\n",
    "# Create array from height_in with metric units: np_height_m\n",
    "np_height_m = np.array(height_in) * 0.0254\n",
    "\n",
    "# Create array from weight_lb with metric units: np_weight_kg\n",
    "np_weight_kg = np.array(weight_lb) * 0.453592\n",
    "\n",
    "# Calculate the BMI: bmi\n",
    "bmi = np_weight_kg / np_height_m ** 2\n",
    "\n",
    "# Print out bmi\n",
    "print(bmi)\n"
   ]
  },
  {
   "cell_type": "markdown",
   "metadata": {},
   "source": [
    "### Lightweight baseball players\n",
    "\n",
    "To subset both regular Python lists and `numpy` arrays, you can use\n",
    "square brackets:\n",
    "\n",
    "    x = [4 , 9 , 6, 3, 1]\n",
    "    x[1]\n",
    "    import numpy as np\n",
    "    y = np.array(x)\n",
    "    y[1]\n",
    "\n",
    "For `numpy` specifically, you can also use boolean `numpy` arrays:\n",
    "\n",
    "    high = y > 5\n",
    "    y[high]\n",
    "\n",
    "The code that calculates the BMI of all baseball players is already\n",
    "included. Follow the instructions and reveal interesting things from the\n",
    "data!\n",
    "\n",
    "-   Create a boolean `numpy` array: the element of the array should be\n",
    "    `True` if the corresponding baseball player's BMI is below 21. You\n",
    "    can use the `<` operator for this. Name the array `light`.\n",
    "-   Print the array `light`.\n",
    "-   Print out a `numpy` array with the BMIs of all baseball players\n",
    "    whose BMI is below 21. Use `light` inside square brackets to do a\n",
    "    selection on the `bmi` array.\n"
   ]
  },
  {
   "cell_type": "code",
   "execution_count": 29,
   "metadata": {},
   "outputs": [
    {
     "name": "stdout",
     "output_type": "stream",
     "text": [
      "[False False False ... False False False]\n",
      "[20.54255679 20.54255679 20.69282047 20.69282047 20.34343189 20.34343189\n",
      " 20.69282047 20.15883472 19.4984471  20.69282047 20.9205219 ]\n"
     ]
    }
   ],
   "source": [
    "# height_in and weight_lb are available as a regular lists\n",
    "\n",
    "# Import numpy\n",
    "import numpy as np\n",
    "\n",
    "# Calculate the BMI: bmi\n",
    "np_height_m = np.array(height_in) * 0.0254\n",
    "np_weight_kg = np.array(weight_lb) * 0.453592\n",
    "bmi = np_weight_kg / np_height_m ** 2\n",
    "\n",
    "# Create the light array\n",
    "light = bmi < 21\n",
    "\n",
    "# Print out light\n",
    "print(light)\n",
    "\n",
    "# Print out BMIs of all baseball players whose BMI is below 21\n",
    "print(bmi[light])\n"
   ]
  },
  {
   "cell_type": "markdown",
   "metadata": {},
   "source": [
    "### NumPy Side Effects\n",
    "\n",
    "As Hugo explained before, `numpy` is great for doing vector arithmetic.\n",
    "If you compare its functionality with regular Python lists, however,\n",
    "some things have changed.\n",
    "\n",
    "First of all, `numpy` arrays cannot contain elements with different\n",
    "types. If you try to build such a list, some of the elements' types are\n",
    "changed to end up with a homogeneous list. This is known as *type\n",
    "coercion*.\n",
    "\n",
    "Second, the typical arithmetic operators, such as `+`, `-`, `*` and `/`\n",
    "have a different meaning for regular Python lists and `numpy` arrays.\n",
    "\n",
    "Have a look at this line of code:\n",
    "\n",
    "    np.array([True, 1, 2]) + np.array([3, 4, False])\n",
    "\n",
    "Can you tell which code chunk builds the exact same Python object? The\n",
    "`numpy` package is already imported as `np`, so you can start\n",
    "experimenting in the IPython Shell straight away!\n",
    "\n",
    "- [ ] `np.array([True, 1, 2, 3, 4, False])`\n",
    "- [x] `np.array([4, 3, 0]) + np.array([0, 2, 2])`\n",
    "- [ ] `np.array([1, 1, 2]) + np.array([3, 4, -1])`\n",
    "- [ ] `np.array([0, 1, 2, 3, 4, 5])`\n",
    "\n",
    "### Subsetting NumPy Arrays\n",
    "\n",
    "You've seen it with your own eyes: Python lists and `numpy` arrays\n",
    "sometimes behave differently. Luckily, there are still certainties in\n",
    "this world. For example, subsetting (using the square bracket notation\n",
    "on lists or arrays) works exactly the same. To see this for yourself,\n",
    "try the following lines of code in the IPython Shell:\n",
    "\n",
    "    x = [\"a\", \"b\", \"c\"]\n",
    "    x[1]\n",
    "\n",
    "    np_x = np.array(x)\n",
    "    np_x[1]\n",
    "\n",
    "The script in the editor already contains code that imports `numpy` as\n",
    "`np`, and stores both the height and weight of the MLB players as\n",
    "`numpy` arrays.\n",
    "\n",
    "-   Subset `np_weight_lb` by printing out the element at index 50.\n",
    "-   Print out a sub-array of `np_height_in` that contains the elements\n",
    "    at index 100 up to **and including** index 110.\n"
   ]
  },
  {
   "cell_type": "code",
   "execution_count": 30,
   "metadata": {},
   "outputs": [
    {
     "name": "stdout",
     "output_type": "stream",
     "text": [
      "200\n",
      "[73 74 72 73 69 72 73 75 75 73 72]\n"
     ]
    }
   ],
   "source": [
    "# height_in and weight_lb are available as a regular lists\n",
    "\n",
    "# Import numpy\n",
    "import numpy as np\n",
    "\n",
    "# Store weight and height lists as numpy arrays\n",
    "np_weight_lb = np.array(weight_lb)\n",
    "np_height_in = np.array(height_in)\n",
    "\n",
    "# Print out the weight at index 50\n",
    "print(np_weight_lb[50])\n",
    "\n",
    "# Print out sub-array of np_height_in: index 100 up to and including index 110\n",
    "print(np_height_in[100:111])\n"
   ]
  },
  {
   "cell_type": "markdown",
   "metadata": {},
   "source": [
    "## 2D NumPy Arrays\n",
    "\n",
    "### Your First 2D NumPy Array\n",
    "\n",
    "Before working on the actual MLB data, let's try to create a 2D `numpy`\n",
    "array from a small list of lists.\n",
    "\n",
    "In this exercise, `baseball` is a list of lists. The main list contains\n",
    "4 elements. Each of these elements is a list containing the height and\n",
    "the weight of 4 baseball players, in this order. `baseball` is already\n",
    "coded for you in the script.\n",
    "\n",
    "-   Use\n",
    "    [`np.array()`](http://docs.scipy.org/doc/numpy-1.10.0/glossary.html#term-array)\n",
    "    to create a 2D `numpy` array from `baseball`. Name it `np_baseball`.\n",
    "-   Print out the type of `np_baseball`.\n",
    "-   Print out the `shape` attribute of `np_baseball`. Use\n",
    "    `np_baseball.shape`.\n"
   ]
  },
  {
   "cell_type": "code",
   "execution_count": 31,
   "metadata": {},
   "outputs": [
    {
     "name": "stdout",
     "output_type": "stream",
     "text": [
      "<class 'numpy.ndarray'>\n",
      "(4, 2)\n"
     ]
    }
   ],
   "source": [
    "# Create baseball, a list of lists\n",
    "baseball = [[180, 78.4],\n",
    "            [215, 102.7],\n",
    "            [210, 98.5],\n",
    "            [188, 75.2]]\n",
    "\n",
    "# Import numpy\n",
    "import numpy as np\n",
    "\n",
    "# Create a 2D numpy array from baseball: np_baseball\n",
    "np_baseball = np.array(baseball)\n",
    "\n",
    "# Print out the type of np_baseball\n",
    "print(type(np_baseball))\n",
    "\n",
    "# Print out the shape of np_baseball\n",
    "print(np_baseball.shape)\n"
   ]
  },
  {
   "cell_type": "markdown",
   "metadata": {},
   "source": [
    "### Baseball data in 2D form\n",
    "\n",
    "You have another look at the MLB data and realize that it makes more\n",
    "sense to restructure all this information in a 2D `numpy` array. This\n",
    "array should have 1015 rows, corresponding to the 1015 baseball players\n",
    "you have information on, and 2 columns (for height and weight).\n",
    "\n",
    "The MLB was, again, very helpful and passed you the data in a different\n",
    "structure, a Python list of lists. In this list of lists, each sublist\n",
    "represents the height and weight of a single baseball player. The name\n",
    "of this embedded list is `baseball`.\n",
    "\n",
    "Can you store the data as a 2D array to unlock `numpy`'s extra\n",
    "functionality?\n",
    "\n",
    "-   Use\n",
    "    [`np.array()`](http://docs.scipy.org/doc/numpy-1.10.0/glossary.html#term-array)\n",
    "    to create a 2D `numpy` array from `baseball`. Name it `np_baseball`.\n",
    "-   Print out the `shape` attribute of `np_baseball`.\n"
   ]
  },
  {
   "cell_type": "code",
   "execution_count": 32,
   "metadata": {},
   "outputs": [
    {
     "name": "stdout",
     "output_type": "stream",
     "text": [
      "(4, 2)\n"
     ]
    }
   ],
   "source": [
    "# baseball is available as a regular list of lists\n",
    "\n",
    "# Import numpy package\n",
    "import numpy as np\n",
    "\n",
    "# Create a 2D numpy array from baseball: np_baseball\n",
    "np_baseball = np.array(baseball)\n",
    "\n",
    "# Print out the shape of np_baseball\n",
    "print(np_baseball.shape)\n"
   ]
  },
  {
   "cell_type": "markdown",
   "metadata": {},
   "source": [
    "### Subsetting 2D NumPy Arrays\n",
    "\n",
    "If your 2D `numpy` array has a regular structure, i.e. each row and\n",
    "column has a fixed number of values, complicated ways of subsetting\n",
    "become very easy. Have a look at the code below where the elements `\"a\"`\n",
    "and `\"c\"` are extracted from a list of lists.\n",
    "\n",
    "    # regular list of lists\n",
    "    x = [[\"a\", \"b\"], [\"c\", \"d\"]]\n",
    "    [x[0][0], x[1][0]]\n",
    "\n",
    "    # numpy\n",
    "    import numpy as np\n",
    "    np_x = np.array(x)\n",
    "    np_x[:, 0]\n",
    "\n",
    "For regular Python lists, this is a real pain. For 2D `numpy` arrays,\n",
    "however, it's pretty intuitive! The indexes before the comma refer to\n",
    "the rows, while those after the comma refer to the columns. The `:` is\n",
    "for slicing; in this example, it tells Python to include all rows.\n",
    "\n",
    "The code that converts the pre-loaded `baseball` list to a 2D `numpy`\n",
    "array is already in the script. The first column contains the players'\n",
    "height in inches and the second column holds player weight, in pounds.\n",
    "Add some lines to make the correct selections. Remember that in Python,\n",
    "the first element is at index 0!\n",
    "\n",
    "-   Print out the 50th row of `np_baseball`.\n",
    "-   Make a new variable, `np_weight_lb`, containing the entire second\n",
    "    column of `np_baseball`.\n",
    "-   Select the height (first column) of the 124th baseball player in\n",
    "    `np_baseball` and print it out.\n"
   ]
  },
  {
   "cell_type": "code",
   "execution_count": 33,
   "metadata": {},
   "outputs": [
    {
     "name": "stdout",
     "output_type": "stream",
     "text": [
      "[ 70 195]\n",
      "75\n"
     ]
    }
   ],
   "source": [
    "# edited/added\n",
    "baseball = pd.read_csv('baseball.csv')[['Height', 'Weight']]\n",
    "\n",
    "# baseball is available as a regular list of lists\n",
    "\n",
    "# Import numpy package\n",
    "import numpy as np\n",
    "\n",
    "# Create np_baseball (2 cols)\n",
    "np_baseball = np.array(baseball)\n",
    "\n",
    "# Print out the 50th row of np_baseball\n",
    "print(np_baseball[49,:])\n",
    "\n",
    "# Select the entire second column of np_baseball: np_weight_lb\n",
    "np_weight_lb = np_baseball[:,1]\n",
    "\n",
    "# Print out height of 124th player\n",
    "print(np_baseball[123, 0])\n"
   ]
  },
  {
   "cell_type": "markdown",
   "metadata": {},
   "source": [
    "### 2D Arithmetic\n",
    "\n",
    "Remember how you calculated the Body Mass Index for all baseball\n",
    "players? `numpy` was able to perform all calculations element-wise (i.e.\n",
    "element by element). For 2D `numpy` arrays this isn't any different! You\n",
    "can combine matrices with single numbers, with vectors, and with other\n",
    "matrices.\n",
    "\n",
    "Execute the code below in the IPython shell and see if you understand:\n",
    "\n",
    "    import numpy as np\n",
    "    np_mat = np.array([[1, 2],\n",
    "                       [3, 4],\n",
    "                       [5, 6]])\n",
    "    np_mat * 2\n",
    "    np_mat + np.array([10, 10])\n",
    "    np_mat + np_mat\n",
    "\n",
    "`np_baseball` is coded for you; it's again a 2D `numpy` array with 3\n",
    "columns representing height (in inches), weight (in pounds) and age (in\n",
    "years).\n",
    "\n",
    "-   You managed to get hold of the changes in height, weight and age of\n",
    "    all baseball players. It is available as a 2D `numpy` array,\n",
    "    `updated`. Add `np_baseball` and `updated` and print out the result.\n",
    "-   You want to convert the units of height and weight to metric (meters\n",
    "    and kilograms, respectively). As a first step, create a `numpy`\n",
    "    array with three values: `0.0254`, `0.453592` and `1`. Name this\n",
    "    array `conversion`.\n",
    "-   Multiply `np_baseball` with `conversion` and print out the result.\n"
   ]
  },
  {
   "cell_type": "code",
   "execution_count": 34,
   "metadata": {},
   "outputs": [
    {
     "name": "stdout",
     "output_type": "stream",
     "text": [
      "[[ 75.2303559  168.83775102  23.99      ]\n",
      " [ 75.02614252 231.09732309  35.69      ]\n",
      " [ 73.1544228  215.08167641  31.78      ]\n",
      " ...\n",
      " [ 76.09349925 209.23890778  26.19      ]\n",
      " [ 75.82285669 172.21799965  32.01      ]\n",
      " [ 73.99484223 203.14402711  28.92      ]]\n",
      "[[ 1.8796  81.64656 22.99   ]\n",
      " [ 1.8796  97.52228 34.69   ]\n",
      " [ 1.8288  95.25432 30.78   ]\n",
      " ...\n",
      " [ 1.905   92.98636 25.19   ]\n",
      " [ 1.905   86.18248 31.01   ]\n",
      " [ 1.8542  88.45044 27.92   ]]\n"
     ]
    }
   ],
   "source": [
    "# edited/added\n",
    "baseball = pd.read_csv('baseball.csv')[['Height', 'Weight', 'Age']]\n",
    "n = len(baseball)\n",
    "updated = np.array(pd.read_csv('update.csv', header = None))\n",
    "\n",
    "# baseball is available as a regular list of lists\n",
    "# updated is available as 2D numpy array\n",
    "\n",
    "# Import numpy package\n",
    "import numpy as np\n",
    "\n",
    "# Create np_baseball (3 cols)\n",
    "np_baseball = np.array(baseball)\n",
    "\n",
    "# Print out addition of np_baseball and updated\n",
    "print(np_baseball + updated)\n",
    "\n",
    "# Create numpy array: conversion\n",
    "conversion = np.array([0.0254, 0.453592, 1])\n",
    "\n",
    "# Print out product of np_baseball and conversion\n",
    "print(np_baseball * conversion)\n"
   ]
  },
  {
   "cell_type": "markdown",
   "metadata": {},
   "source": [
    "## NumPy: Basic Statistics\n",
    "\n",
    "### Average versus median\n",
    "\n",
    "You now know how to use `numpy` functions to get a better feeling for\n",
    "your data. It basically comes down to importing `numpy` and then calling\n",
    "several simple functions on the `numpy` arrays:\n",
    "\n",
    "    import numpy as np\n",
    "    x = [1, 4, 8, 10, 12]\n",
    "    np.mean(x)\n",
    "    np.median(x)\n",
    "\n",
    "The baseball data is available as a 2D `numpy` array with 3 columns\n",
    "(height, weight, age) and 1015 rows. The name of this `numpy` array is\n",
    "`np_baseball`. After restructuring the data, however, you notice that\n",
    "some height values are abnormally high. Follow the instructions and\n",
    "discover which summary statistic is best suited if you're dealing with\n",
    "so-called *outliers*.\n",
    "\n",
    "-   Create `numpy` array `np_height_in` that is equal to first column of\n",
    "    `np_baseball`.\n",
    "-   Print out the mean of `np_height_in`.\n",
    "-   Print out the median of `np_height_in`.\n"
   ]
  },
  {
   "cell_type": "code",
   "execution_count": 35,
   "metadata": {},
   "outputs": [
    {
     "name": "stdout",
     "output_type": "stream",
     "text": [
      "73.6896551724138\n",
      "74.0\n"
     ]
    }
   ],
   "source": [
    "# np_baseball is available\n",
    "\n",
    "# Import numpy\n",
    "import numpy as np\n",
    "\n",
    "# Create np_height_in from np_baseball\n",
    "np_height_in = np_baseball[:,0]\n",
    "\n",
    "# Print out the mean of np_height_in\n",
    "print(np.mean(np_height_in))\n",
    "\n",
    "# Print out the median of np_height_in\n",
    "print(np.median(np_height_in))\n"
   ]
  },
  {
   "cell_type": "markdown",
   "metadata": {},
   "source": [
    "### Explore the baseball data\n",
    "\n",
    "Because the mean and median are so far apart, you decide to complain to\n",
    "the MLB. They find the error and send the corrected data over to you.\n",
    "It's again available as a 2D NumPy array `np_baseball`, with three\n",
    "columns.\n",
    "\n",
    "The Python script in the editor already includes code to print out\n",
    "informative messages with the different summary statistics. Can you\n",
    "finish the job?\n",
    "\n",
    "-   The code to print out the mean height is already included. Complete\n",
    "    the code for the median height. Replace `None` with the correct\n",
    "    code.\n",
    "-   Use\n",
    "    [`np.std()`](http://docs.scipy.org/doc/numpy-1.10.0/reference/generated/numpy.std.html)\n",
    "    on the first column of `np_baseball` to calculate `stddev`. Replace\n",
    "    `None` with the correct code.\n",
    "-   Do big players tend to be heavier? Use\n",
    "    [`np.corrcoef()`](http://docs.scipy.org/doc/numpy-1.10.0/reference/generated/numpy.corrcoef.html)\n",
    "    to store the correlation between the first and second column of\n",
    "    `np_baseball` in `corr`. Replace `None` with the correct code.\n"
   ]
  },
  {
   "cell_type": "code",
   "execution_count": 36,
   "metadata": {},
   "outputs": [
    {
     "name": "stdout",
     "output_type": "stream",
     "text": [
      "Average: 73.6896551724138\n",
      "Median: 74.0\n",
      "Standard Deviation: 2.312791881046546\n",
      "Correlation: [[1.         0.53153932]\n",
      " [0.53153932 1.        ]]\n"
     ]
    }
   ],
   "source": [
    "# np_baseball is available\n",
    "\n",
    "# Import numpy\n",
    "import numpy as np\n",
    "\n",
    "# Print mean height (first column)\n",
    "avg = np.mean(np_baseball[:,0])\n",
    "print(\"Average: \" + str(avg))\n",
    "\n",
    "# Print median height. Replace 'None'\n",
    "med = np.median(np_baseball[:,0])\n",
    "print(\"Median: \" + str(med))\n",
    "\n",
    "# Print out the standard deviation on height. Replace 'None'\n",
    "stddev = np.std(np_baseball[:,0])\n",
    "print(\"Standard Deviation: \" + str(stddev))\n",
    "\n",
    "# Print out correlation between first and second column. Replace 'None'\n",
    "corr = np.corrcoef(np_baseball[:,0], np_baseball[:,1])\n",
    "print(\"Correlation: \" + str(corr))\n"
   ]
  },
  {
   "cell_type": "markdown",
   "metadata": {},
   "source": [
    "### Blend it all together\n",
    "\n",
    "In the last few exercises you've learned everything there is to know\n",
    "about heights and weights of baseball players. Now it's time to dive\n",
    "into another sport: soccer.\n",
    "\n",
    "You've contacted FIFA for some data and they handed you two lists. The\n",
    "lists are the following:\n",
    "\n",
    "    positions = ['GK', 'M', 'A', 'D', ...]\n",
    "    heights = [191, 184, 185, 180, ...]\n",
    "\n",
    "Each element in the lists corresponds to a player. The first list,\n",
    "`positions`, contains strings representing each player's position. The\n",
    "possible positions are: `'GK'` (goalkeeper), `'M'` (midfield), `'A'`\n",
    "(attack) and `'D'` (defense). The second list, `heights`, contains\n",
    "integers representing the height of the player in cm. The first player\n",
    "in the lists is a goalkeeper and is pretty tall (191 cm).\n",
    "\n",
    "You're fairly confident that the median height of goalkeepers is higher\n",
    "than that of other players on the soccer field. Some of your friends\n",
    "don't believe you, so you are determined to show them using the data you\n",
    "received from FIFA and your newly acquired Python skills.\n",
    "\n",
    "-   Convert `heights` and `positions`, which are regular lists, to numpy\n",
    "    arrays. Call them `np_heights` and `np_positions`.\n",
    "-   Extract all the heights of the goalkeepers. You can use a little\n",
    "    trick here: use `np_positions == 'GK'` as an index for `np_heights`.\n",
    "    Assign the result to `gk_heights`.\n",
    "-   Extract all the heights of all the other players. This time use\n",
    "    `np_positions != 'GK'` as an index for `np_heights`. Assign the\n",
    "    result to `other_heights`.\n",
    "-   Print out the median height of the goalkeepers using\n",
    "    [`np.median()`](http://docs.scipy.org/doc/numpy-1.10.0/reference/generated/numpy.median.html).\n",
    "    Replace `None` with the correct code.\n",
    "-   Do the same for the other players. Print out their median height.\n",
    "    Replace `None` with the correct code.\n"
   ]
  },
  {
   "cell_type": "code",
   "execution_count": 37,
   "metadata": {
    "tags": []
   },
   "outputs": [
    {
     "name": "stdout",
     "output_type": "stream",
     "text": [
      "Median height of goalkeepers: 188.0\n",
      "Median height of other players: 181.0\n"
     ]
    }
   ],
   "source": [
    "# edited/added\n",
    "fifa =  pd.read_csv('fifa.csv', skipinitialspace=True, usecols=['position', 'height'])\n",
    "positions = list(fifa.position)\n",
    "heights = list(fifa.height)\n",
    "\n",
    "# heights and positions are available as lists\n",
    "\n",
    "# Import numpy\n",
    "import numpy as np\n",
    "\n",
    "# Convert positions and heights to numpy arrays: np_positions, np_heights\n",
    "np_positions = np.array(positions)\n",
    "np_heights = np.array(heights)\n",
    "\n",
    "# Heights of the goalkeepers: gk_heights\n",
    "gk_heights = np_heights[np_positions == 'GK']\n",
    "\n",
    "# Heights of the other players: other_heights\n",
    "other_heights = np_heights[np_positions != 'GK']\n",
    "\n",
    "# Print out the median height of goalkeepers. Replace 'None'\n",
    "print(\"Median height of goalkeepers: \" + str(np.median(gk_heights)))\n",
    "\n",
    "# Print out the median height of other players. Replace 'None'\n",
    "print(\"Median height of other players: \" + str(np.median(other_heights)))\n"
   ]
  }
 ],
 "metadata": {
  "anaconda-cloud": "",
  "kernelspec": {
   "display_name": "Python 3 (ipykernel)",
   "language": "python",
   "name": "python3"
  },
  "language_info": {
   "codemirror_mode": {
    "name": "ipython",
    "version": 3
   },
   "file_extension": ".py",
   "mimetype": "text/x-python",
   "name": "python",
   "nbconvert_exporter": "python",
   "pygments_lexer": "ipython3",
   "version": "3.11.2"
  }
 },
 "nbformat": 4,
 "nbformat_minor": 4
}
